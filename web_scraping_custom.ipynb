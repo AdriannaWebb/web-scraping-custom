{
 "cells": [
  {
   "cell_type": "markdown",
   "id": "2d093aa9",
   "metadata": {},
   "source": [
    "# Custom Web Scraping and NLP Project\n",
    "#### Owner: Adrianna Webb\n",
    "\n",
    "[Github Repo](https://github.com/AdriannaWebb/web-scraping-custom)"
   ]
  },
  {
   "cell_type": "code",
   "execution_count": 7,
   "id": "ca138b09",
   "metadata": {},
   "outputs": [
    {
     "name": "stdout",
     "output_type": "stream",
     "text": [
      "Requirement already satisfied: requests in c:\\users\\adria\\documents\\web-scraping-custom\\.venv\\lib\\site-packages (2.32.4)\n",
      "Requirement already satisfied: spacy in c:\\users\\adria\\documents\\web-scraping-custom\\.venv\\lib\\site-packages (3.8.7)\n",
      "Requirement already satisfied: spacytextblob in c:\\users\\adria\\documents\\web-scraping-custom\\.venv\\lib\\site-packages (5.0.0)\n",
      "Requirement already satisfied: matplotlib in c:\\users\\adria\\documents\\web-scraping-custom\\.venv\\lib\\site-packages (3.10.5)\n",
      "Requirement already satisfied: beautifulsoup4 in c:\\users\\adria\\documents\\web-scraping-custom\\.venv\\lib\\site-packages (4.13.4)\n",
      "Requirement already satisfied: charset_normalizer<4,>=2 in c:\\users\\adria\\documents\\web-scraping-custom\\.venv\\lib\\site-packages (from requests) (3.4.2)\n",
      "Requirement already satisfied: idna<4,>=2.5 in c:\\users\\adria\\documents\\web-scraping-custom\\.venv\\lib\\site-packages (from requests) (3.10)\n",
      "Requirement already satisfied: urllib3<3,>=1.21.1 in c:\\users\\adria\\documents\\web-scraping-custom\\.venv\\lib\\site-packages (from requests) (2.5.0)\n",
      "Requirement already satisfied: certifi>=2017.4.17 in c:\\users\\adria\\documents\\web-scraping-custom\\.venv\\lib\\site-packages (from requests) (2025.8.3)\n",
      "Requirement already satisfied: spacy-legacy<3.1.0,>=3.0.11 in c:\\users\\adria\\documents\\web-scraping-custom\\.venv\\lib\\site-packages (from spacy) (3.0.12)\n",
      "Requirement already satisfied: spacy-loggers<2.0.0,>=1.0.0 in c:\\users\\adria\\documents\\web-scraping-custom\\.venv\\lib\\site-packages (from spacy) (1.0.5)\n",
      "Requirement already satisfied: murmurhash<1.1.0,>=0.28.0 in c:\\users\\adria\\documents\\web-scraping-custom\\.venv\\lib\\site-packages (from spacy) (1.0.13)\n",
      "Requirement already satisfied: cymem<2.1.0,>=2.0.2 in c:\\users\\adria\\documents\\web-scraping-custom\\.venv\\lib\\site-packages (from spacy) (2.0.11)\n",
      "Requirement already satisfied: preshed<3.1.0,>=3.0.2 in c:\\users\\adria\\documents\\web-scraping-custom\\.venv\\lib\\site-packages (from spacy) (3.0.10)\n",
      "Requirement already satisfied: thinc<8.4.0,>=8.3.4 in c:\\users\\adria\\documents\\web-scraping-custom\\.venv\\lib\\site-packages (from spacy) (8.3.6)\n",
      "Requirement already satisfied: wasabi<1.2.0,>=0.9.1 in c:\\users\\adria\\documents\\web-scraping-custom\\.venv\\lib\\site-packages (from spacy) (1.1.3)\n",
      "Requirement already satisfied: srsly<3.0.0,>=2.4.3 in c:\\users\\adria\\documents\\web-scraping-custom\\.venv\\lib\\site-packages (from spacy) (2.5.1)\n",
      "Requirement already satisfied: catalogue<2.1.0,>=2.0.6 in c:\\users\\adria\\documents\\web-scraping-custom\\.venv\\lib\\site-packages (from spacy) (2.0.10)\n",
      "Requirement already satisfied: weasel<0.5.0,>=0.1.0 in c:\\users\\adria\\documents\\web-scraping-custom\\.venv\\lib\\site-packages (from spacy) (0.4.1)\n",
      "Requirement already satisfied: typer<1.0.0,>=0.3.0 in c:\\users\\adria\\documents\\web-scraping-custom\\.venv\\lib\\site-packages (from spacy) (0.16.0)\n",
      "Requirement already satisfied: tqdm<5.0.0,>=4.38.0 in c:\\users\\adria\\documents\\web-scraping-custom\\.venv\\lib\\site-packages (from spacy) (4.67.1)\n",
      "Requirement already satisfied: numpy>=1.19.0 in c:\\users\\adria\\documents\\web-scraping-custom\\.venv\\lib\\site-packages (from spacy) (2.3.2)\n",
      "Requirement already satisfied: pydantic!=1.8,!=1.8.1,<3.0.0,>=1.7.4 in c:\\users\\adria\\documents\\web-scraping-custom\\.venv\\lib\\site-packages (from spacy) (2.11.7)\n",
      "Requirement already satisfied: jinja2 in c:\\users\\adria\\documents\\web-scraping-custom\\.venv\\lib\\site-packages (from spacy) (3.1.6)\n",
      "Requirement already satisfied: setuptools in c:\\users\\adria\\documents\\web-scraping-custom\\.venv\\lib\\site-packages (from spacy) (80.9.0)\n",
      "Requirement already satisfied: packaging>=20.0 in c:\\users\\adria\\documents\\web-scraping-custom\\.venv\\lib\\site-packages (from spacy) (25.0)\n",
      "Requirement already satisfied: langcodes<4.0.0,>=3.2.0 in c:\\users\\adria\\documents\\web-scraping-custom\\.venv\\lib\\site-packages (from spacy) (3.5.0)\n",
      "Requirement already satisfied: language-data>=1.2 in c:\\users\\adria\\documents\\web-scraping-custom\\.venv\\lib\\site-packages (from langcodes<4.0.0,>=3.2.0->spacy) (1.3.0)\n",
      "Requirement already satisfied: annotated-types>=0.6.0 in c:\\users\\adria\\documents\\web-scraping-custom\\.venv\\lib\\site-packages (from pydantic!=1.8,!=1.8.1,<3.0.0,>=1.7.4->spacy) (0.7.0)\n",
      "Requirement already satisfied: pydantic-core==2.33.2 in c:\\users\\adria\\documents\\web-scraping-custom\\.venv\\lib\\site-packages (from pydantic!=1.8,!=1.8.1,<3.0.0,>=1.7.4->spacy) (2.33.2)\n",
      "Requirement already satisfied: typing-extensions>=4.12.2 in c:\\users\\adria\\documents\\web-scraping-custom\\.venv\\lib\\site-packages (from pydantic!=1.8,!=1.8.1,<3.0.0,>=1.7.4->spacy) (4.14.1)\n",
      "Requirement already satisfied: typing-inspection>=0.4.0 in c:\\users\\adria\\documents\\web-scraping-custom\\.venv\\lib\\site-packages (from pydantic!=1.8,!=1.8.1,<3.0.0,>=1.7.4->spacy) (0.4.1)\n",
      "Requirement already satisfied: blis<1.4.0,>=1.3.0 in c:\\users\\adria\\documents\\web-scraping-custom\\.venv\\lib\\site-packages (from thinc<8.4.0,>=8.3.4->spacy) (1.3.0)\n",
      "Requirement already satisfied: confection<1.0.0,>=0.0.1 in c:\\users\\adria\\documents\\web-scraping-custom\\.venv\\lib\\site-packages (from thinc<8.4.0,>=8.3.4->spacy) (0.1.5)\n",
      "Requirement already satisfied: colorama in c:\\users\\adria\\documents\\web-scraping-custom\\.venv\\lib\\site-packages (from tqdm<5.0.0,>=4.38.0->spacy) (0.4.6)\n",
      "Requirement already satisfied: click>=8.0.0 in c:\\users\\adria\\documents\\web-scraping-custom\\.venv\\lib\\site-packages (from typer<1.0.0,>=0.3.0->spacy) (8.2.1)\n",
      "Requirement already satisfied: shellingham>=1.3.0 in c:\\users\\adria\\documents\\web-scraping-custom\\.venv\\lib\\site-packages (from typer<1.0.0,>=0.3.0->spacy) (1.5.4)\n",
      "Requirement already satisfied: rich>=10.11.0 in c:\\users\\adria\\documents\\web-scraping-custom\\.venv\\lib\\site-packages (from typer<1.0.0,>=0.3.0->spacy) (14.1.0)\n",
      "Requirement already satisfied: cloudpathlib<1.0.0,>=0.7.0 in c:\\users\\adria\\documents\\web-scraping-custom\\.venv\\lib\\site-packages (from weasel<0.5.0,>=0.1.0->spacy) (0.21.1)\n",
      "Requirement already satisfied: smart-open<8.0.0,>=5.2.1 in c:\\users\\adria\\documents\\web-scraping-custom\\.venv\\lib\\site-packages (from weasel<0.5.0,>=0.1.0->spacy) (7.3.0.post1)\n",
      "Requirement already satisfied: wrapt in c:\\users\\adria\\documents\\web-scraping-custom\\.venv\\lib\\site-packages (from smart-open<8.0.0,>=5.2.1->weasel<0.5.0,>=0.1.0->spacy) (1.17.2)\n",
      "Requirement already satisfied: textblob>=0.18.0.post0 in c:\\users\\adria\\documents\\web-scraping-custom\\.venv\\lib\\site-packages (from spacytextblob) (0.19.0)\n",
      "Requirement already satisfied: contourpy>=1.0.1 in c:\\users\\adria\\documents\\web-scraping-custom\\.venv\\lib\\site-packages (from matplotlib) (1.3.3)\n",
      "Requirement already satisfied: cycler>=0.10 in c:\\users\\adria\\documents\\web-scraping-custom\\.venv\\lib\\site-packages (from matplotlib) (0.12.1)\n",
      "Requirement already satisfied: fonttools>=4.22.0 in c:\\users\\adria\\documents\\web-scraping-custom\\.venv\\lib\\site-packages (from matplotlib) (4.59.0)\n",
      "Requirement already satisfied: kiwisolver>=1.3.1 in c:\\users\\adria\\documents\\web-scraping-custom\\.venv\\lib\\site-packages (from matplotlib) (1.4.8)\n",
      "Requirement already satisfied: pillow>=8 in c:\\users\\adria\\documents\\web-scraping-custom\\.venv\\lib\\site-packages (from matplotlib) (11.3.0)\n",
      "Requirement already satisfied: pyparsing>=2.3.1 in c:\\users\\adria\\documents\\web-scraping-custom\\.venv\\lib\\site-packages (from matplotlib) (3.2.3)\n",
      "Requirement already satisfied: python-dateutil>=2.7 in c:\\users\\adria\\documents\\web-scraping-custom\\.venv\\lib\\site-packages (from matplotlib) (2.9.0.post0)\n",
      "Requirement already satisfied: soupsieve>1.2 in c:\\users\\adria\\documents\\web-scraping-custom\\.venv\\lib\\site-packages (from beautifulsoup4) (2.7)\n",
      "Requirement already satisfied: marisa-trie>=1.1.0 in c:\\users\\adria\\documents\\web-scraping-custom\\.venv\\lib\\site-packages (from language-data>=1.2->langcodes<4.0.0,>=3.2.0->spacy) (1.2.1)\n",
      "Requirement already satisfied: six>=1.5 in c:\\users\\adria\\documents\\web-scraping-custom\\.venv\\lib\\site-packages (from python-dateutil>=2.7->matplotlib) (1.17.0)\n",
      "Requirement already satisfied: markdown-it-py>=2.2.0 in c:\\users\\adria\\documents\\web-scraping-custom\\.venv\\lib\\site-packages (from rich>=10.11.0->typer<1.0.0,>=0.3.0->spacy) (3.0.0)\n",
      "Requirement already satisfied: pygments<3.0.0,>=2.13.0 in c:\\users\\adria\\documents\\web-scraping-custom\\.venv\\lib\\site-packages (from rich>=10.11.0->typer<1.0.0,>=0.3.0->spacy) (2.19.2)\n",
      "Requirement already satisfied: mdurl~=0.1 in c:\\users\\adria\\documents\\web-scraping-custom\\.venv\\lib\\site-packages (from markdown-it-py>=2.2.0->rich>=10.11.0->typer<1.0.0,>=0.3.0->spacy) (0.1.2)\n",
      "Requirement already satisfied: nltk>=3.9 in c:\\users\\adria\\documents\\web-scraping-custom\\.venv\\lib\\site-packages (from textblob>=0.18.0.post0->spacytextblob) (3.9.1)\n",
      "Requirement already satisfied: joblib in c:\\users\\adria\\documents\\web-scraping-custom\\.venv\\lib\\site-packages (from nltk>=3.9->textblob>=0.18.0.post0->spacytextblob) (1.5.1)\n",
      "Requirement already satisfied: regex>=2021.8.3 in c:\\users\\adria\\documents\\web-scraping-custom\\.venv\\lib\\site-packages (from nltk>=3.9->textblob>=0.18.0.post0->spacytextblob) (2025.7.34)\n",
      "Requirement already satisfied: MarkupSafe>=2.0 in c:\\users\\adria\\documents\\web-scraping-custom\\.venv\\lib\\site-packages (from jinja2->spacy) (3.0.2)\n",
      "Note: you may need to restart the kernel to use updated packages.\n"
     ]
    }
   ],
   "source": [
    "# Install required packages\n",
    "%pip install requests spacy spacytextblob matplotlib beautifulsoup4\n",
    "\n",
    "# Ran 'python -m spacy download en_core_web_sm' in terminal\n"
   ]
  },
  {
   "cell_type": "code",
   "execution_count": 8,
   "id": "7753de54",
   "metadata": {},
   "outputs": [
    {
     "data": {
      "text/plain": [
       "<spacytextblob.spacytextblob.SpacyTextBlob at 0x264384d5ee0>"
      ]
     },
     "execution_count": 8,
     "metadata": {},
     "output_type": "execute_result"
    }
   ],
   "source": [
    "# Import libraries\n",
    "import requests\n",
    "from bs4 import BeautifulSoup\n",
    "from collections import Counter\n",
    "import matplotlib.pyplot as plt\n",
    "import spacy\n",
    "from spacytextblob.spacytextblob import SpacyTextBlob\n",
    "import re\n",
    "\n",
    "# Load the English language model\n",
    "nlp = spacy.load(\"en_core_web_sm\")\n",
    "\n",
    "# Add sentiment analysis capability\n",
    "nlp.add_pipe(\"spacytextblob\")"
   ]
  }
 ],
 "metadata": {
  "kernelspec": {
   "display_name": ".venv",
   "language": "python",
   "name": "python3"
  },
  "language_info": {
   "codemirror_mode": {
    "name": "ipython",
    "version": 3
   },
   "file_extension": ".py",
   "mimetype": "text/x-python",
   "name": "python",
   "nbconvert_exporter": "python",
   "pygments_lexer": "ipython3",
   "version": "3.12.9"
  }
 },
 "nbformat": 4,
 "nbformat_minor": 5
}
