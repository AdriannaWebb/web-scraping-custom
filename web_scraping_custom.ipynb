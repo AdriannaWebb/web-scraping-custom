{
 "cells": [
  {
   "cell_type": "markdown",
   "id": "2d093aa9",
   "metadata": {},
   "source": [
    "# Web Mining and Applied NLP (44-620)\n",
    "## Final Project: Article Summarizer\n",
    "### Student Name: Adrianna Webb\n",
    "\n",
    "[Github Repo](https://github.com/AdriannaWebb/web-scraping-custom)"
   ]
  },
  {
   "cell_type": "code",
   "execution_count": 25,
   "id": "ca138b09",
   "metadata": {},
   "outputs": [
    {
     "name": "stdout",
     "output_type": "stream",
     "text": [
      "Requirement already satisfied: requests in c:\\users\\adria\\documents\\web-scraping-custom\\.venv\\lib\\site-packages (2.32.4)\n",
      "Requirement already satisfied: spacy in c:\\users\\adria\\documents\\web-scraping-custom\\.venv\\lib\\site-packages (3.8.7)\n",
      "Requirement already satisfied: spacytextblob in c:\\users\\adria\\documents\\web-scraping-custom\\.venv\\lib\\site-packages (5.0.0)\n",
      "Requirement already satisfied: matplotlib in c:\\users\\adria\\documents\\web-scraping-custom\\.venv\\lib\\site-packages (3.10.5)\n",
      "Requirement already satisfied: beautifulsoup4 in c:\\users\\adria\\documents\\web-scraping-custom\\.venv\\lib\\site-packages (4.13.4)\n",
      "Requirement already satisfied: charset_normalizer<4,>=2 in c:\\users\\adria\\documents\\web-scraping-custom\\.venv\\lib\\site-packages (from requests) (3.4.2)\n",
      "Requirement already satisfied: idna<4,>=2.5 in c:\\users\\adria\\documents\\web-scraping-custom\\.venv\\lib\\site-packages (from requests) (3.10)\n",
      "Requirement already satisfied: urllib3<3,>=1.21.1 in c:\\users\\adria\\documents\\web-scraping-custom\\.venv\\lib\\site-packages (from requests) (2.5.0)\n",
      "Requirement already satisfied: certifi>=2017.4.17 in c:\\users\\adria\\documents\\web-scraping-custom\\.venv\\lib\\site-packages (from requests) (2025.8.3)\n",
      "Requirement already satisfied: spacy-legacy<3.1.0,>=3.0.11 in c:\\users\\adria\\documents\\web-scraping-custom\\.venv\\lib\\site-packages (from spacy) (3.0.12)\n",
      "Requirement already satisfied: spacy-loggers<2.0.0,>=1.0.0 in c:\\users\\adria\\documents\\web-scraping-custom\\.venv\\lib\\site-packages (from spacy) (1.0.5)\n",
      "Requirement already satisfied: murmurhash<1.1.0,>=0.28.0 in c:\\users\\adria\\documents\\web-scraping-custom\\.venv\\lib\\site-packages (from spacy) (1.0.13)\n",
      "Requirement already satisfied: cymem<2.1.0,>=2.0.2 in c:\\users\\adria\\documents\\web-scraping-custom\\.venv\\lib\\site-packages (from spacy) (2.0.11)\n",
      "Requirement already satisfied: preshed<3.1.0,>=3.0.2 in c:\\users\\adria\\documents\\web-scraping-custom\\.venv\\lib\\site-packages (from spacy) (3.0.10)\n",
      "Requirement already satisfied: thinc<8.4.0,>=8.3.4 in c:\\users\\adria\\documents\\web-scraping-custom\\.venv\\lib\\site-packages (from spacy) (8.3.6)\n",
      "Requirement already satisfied: wasabi<1.2.0,>=0.9.1 in c:\\users\\adria\\documents\\web-scraping-custom\\.venv\\lib\\site-packages (from spacy) (1.1.3)\n",
      "Requirement already satisfied: srsly<3.0.0,>=2.4.3 in c:\\users\\adria\\documents\\web-scraping-custom\\.venv\\lib\\site-packages (from spacy) (2.5.1)\n",
      "Requirement already satisfied: catalogue<2.1.0,>=2.0.6 in c:\\users\\adria\\documents\\web-scraping-custom\\.venv\\lib\\site-packages (from spacy) (2.0.10)\n",
      "Requirement already satisfied: weasel<0.5.0,>=0.1.0 in c:\\users\\adria\\documents\\web-scraping-custom\\.venv\\lib\\site-packages (from spacy) (0.4.1)\n",
      "Requirement already satisfied: typer<1.0.0,>=0.3.0 in c:\\users\\adria\\documents\\web-scraping-custom\\.venv\\lib\\site-packages (from spacy) (0.16.0)\n",
      "Requirement already satisfied: tqdm<5.0.0,>=4.38.0 in c:\\users\\adria\\documents\\web-scraping-custom\\.venv\\lib\\site-packages (from spacy) (4.67.1)\n",
      "Requirement already satisfied: numpy>=1.19.0 in c:\\users\\adria\\documents\\web-scraping-custom\\.venv\\lib\\site-packages (from spacy) (2.3.2)\n",
      "Requirement already satisfied: pydantic!=1.8,!=1.8.1,<3.0.0,>=1.7.4 in c:\\users\\adria\\documents\\web-scraping-custom\\.venv\\lib\\site-packages (from spacy) (2.11.7)\n",
      "Requirement already satisfied: jinja2 in c:\\users\\adria\\documents\\web-scraping-custom\\.venv\\lib\\site-packages (from spacy) (3.1.6)\n",
      "Requirement already satisfied: setuptools in c:\\users\\adria\\documents\\web-scraping-custom\\.venv\\lib\\site-packages (from spacy) (80.9.0)\n",
      "Requirement already satisfied: packaging>=20.0 in c:\\users\\adria\\documents\\web-scraping-custom\\.venv\\lib\\site-packages (from spacy) (25.0)\n",
      "Requirement already satisfied: langcodes<4.0.0,>=3.2.0 in c:\\users\\adria\\documents\\web-scraping-custom\\.venv\\lib\\site-packages (from spacy) (3.5.0)\n",
      "Requirement already satisfied: language-data>=1.2 in c:\\users\\adria\\documents\\web-scraping-custom\\.venv\\lib\\site-packages (from langcodes<4.0.0,>=3.2.0->spacy) (1.3.0)\n",
      "Requirement already satisfied: annotated-types>=0.6.0 in c:\\users\\adria\\documents\\web-scraping-custom\\.venv\\lib\\site-packages (from pydantic!=1.8,!=1.8.1,<3.0.0,>=1.7.4->spacy) (0.7.0)\n",
      "Requirement already satisfied: pydantic-core==2.33.2 in c:\\users\\adria\\documents\\web-scraping-custom\\.venv\\lib\\site-packages (from pydantic!=1.8,!=1.8.1,<3.0.0,>=1.7.4->spacy) (2.33.2)\n",
      "Requirement already satisfied: typing-extensions>=4.12.2 in c:\\users\\adria\\documents\\web-scraping-custom\\.venv\\lib\\site-packages (from pydantic!=1.8,!=1.8.1,<3.0.0,>=1.7.4->spacy) (4.14.1)\n",
      "Requirement already satisfied: typing-inspection>=0.4.0 in c:\\users\\adria\\documents\\web-scraping-custom\\.venv\\lib\\site-packages (from pydantic!=1.8,!=1.8.1,<3.0.0,>=1.7.4->spacy) (0.4.1)\n",
      "Requirement already satisfied: blis<1.4.0,>=1.3.0 in c:\\users\\adria\\documents\\web-scraping-custom\\.venv\\lib\\site-packages (from thinc<8.4.0,>=8.3.4->spacy) (1.3.0)\n",
      "Requirement already satisfied: confection<1.0.0,>=0.0.1 in c:\\users\\adria\\documents\\web-scraping-custom\\.venv\\lib\\site-packages (from thinc<8.4.0,>=8.3.4->spacy) (0.1.5)\n",
      "Requirement already satisfied: colorama in c:\\users\\adria\\documents\\web-scraping-custom\\.venv\\lib\\site-packages (from tqdm<5.0.0,>=4.38.0->spacy) (0.4.6)\n",
      "Requirement already satisfied: click>=8.0.0 in c:\\users\\adria\\documents\\web-scraping-custom\\.venv\\lib\\site-packages (from typer<1.0.0,>=0.3.0->spacy) (8.2.1)\n",
      "Requirement already satisfied: shellingham>=1.3.0 in c:\\users\\adria\\documents\\web-scraping-custom\\.venv\\lib\\site-packages (from typer<1.0.0,>=0.3.0->spacy) (1.5.4)\n",
      "Requirement already satisfied: rich>=10.11.0 in c:\\users\\adria\\documents\\web-scraping-custom\\.venv\\lib\\site-packages (from typer<1.0.0,>=0.3.0->spacy) (14.1.0)\n",
      "Requirement already satisfied: cloudpathlib<1.0.0,>=0.7.0 in c:\\users\\adria\\documents\\web-scraping-custom\\.venv\\lib\\site-packages (from weasel<0.5.0,>=0.1.0->spacy) (0.21.1)\n",
      "Requirement already satisfied: smart-open<8.0.0,>=5.2.1 in c:\\users\\adria\\documents\\web-scraping-custom\\.venv\\lib\\site-packages (from weasel<0.5.0,>=0.1.0->spacy) (7.3.0.post1)\n",
      "Requirement already satisfied: wrapt in c:\\users\\adria\\documents\\web-scraping-custom\\.venv\\lib\\site-packages (from smart-open<8.0.0,>=5.2.1->weasel<0.5.0,>=0.1.0->spacy) (1.17.2)\n",
      "Requirement already satisfied: textblob>=0.18.0.post0 in c:\\users\\adria\\documents\\web-scraping-custom\\.venv\\lib\\site-packages (from spacytextblob) (0.19.0)\n",
      "Requirement already satisfied: contourpy>=1.0.1 in c:\\users\\adria\\documents\\web-scraping-custom\\.venv\\lib\\site-packages (from matplotlib) (1.3.3)\n",
      "Requirement already satisfied: cycler>=0.10 in c:\\users\\adria\\documents\\web-scraping-custom\\.venv\\lib\\site-packages (from matplotlib) (0.12.1)\n",
      "Requirement already satisfied: fonttools>=4.22.0 in c:\\users\\adria\\documents\\web-scraping-custom\\.venv\\lib\\site-packages (from matplotlib) (4.59.0)\n",
      "Requirement already satisfied: kiwisolver>=1.3.1 in c:\\users\\adria\\documents\\web-scraping-custom\\.venv\\lib\\site-packages (from matplotlib) (1.4.8)\n",
      "Requirement already satisfied: pillow>=8 in c:\\users\\adria\\documents\\web-scraping-custom\\.venv\\lib\\site-packages (from matplotlib) (11.3.0)\n",
      "Requirement already satisfied: pyparsing>=2.3.1 in c:\\users\\adria\\documents\\web-scraping-custom\\.venv\\lib\\site-packages (from matplotlib) (3.2.3)\n",
      "Requirement already satisfied: python-dateutil>=2.7 in c:\\users\\adria\\documents\\web-scraping-custom\\.venv\\lib\\site-packages (from matplotlib) (2.9.0.post0)\n",
      "Requirement already satisfied: soupsieve>1.2 in c:\\users\\adria\\documents\\web-scraping-custom\\.venv\\lib\\site-packages (from beautifulsoup4) (2.7)\n",
      "Requirement already satisfied: marisa-trie>=1.1.0 in c:\\users\\adria\\documents\\web-scraping-custom\\.venv\\lib\\site-packages (from language-data>=1.2->langcodes<4.0.0,>=3.2.0->spacy) (1.2.1)\n",
      "Requirement already satisfied: six>=1.5 in c:\\users\\adria\\documents\\web-scraping-custom\\.venv\\lib\\site-packages (from python-dateutil>=2.7->matplotlib) (1.17.0)\n",
      "Requirement already satisfied: markdown-it-py>=2.2.0 in c:\\users\\adria\\documents\\web-scraping-custom\\.venv\\lib\\site-packages (from rich>=10.11.0->typer<1.0.0,>=0.3.0->spacy) (3.0.0)\n",
      "Requirement already satisfied: pygments<3.0.0,>=2.13.0 in c:\\users\\adria\\documents\\web-scraping-custom\\.venv\\lib\\site-packages (from rich>=10.11.0->typer<1.0.0,>=0.3.0->spacy) (2.19.2)\n",
      "Requirement already satisfied: mdurl~=0.1 in c:\\users\\adria\\documents\\web-scraping-custom\\.venv\\lib\\site-packages (from markdown-it-py>=2.2.0->rich>=10.11.0->typer<1.0.0,>=0.3.0->spacy) (0.1.2)\n",
      "Requirement already satisfied: nltk>=3.9 in c:\\users\\adria\\documents\\web-scraping-custom\\.venv\\lib\\site-packages (from textblob>=0.18.0.post0->spacytextblob) (3.9.1)\n",
      "Requirement already satisfied: joblib in c:\\users\\adria\\documents\\web-scraping-custom\\.venv\\lib\\site-packages (from nltk>=3.9->textblob>=0.18.0.post0->spacytextblob) (1.5.1)\n",
      "Requirement already satisfied: regex>=2021.8.3 in c:\\users\\adria\\documents\\web-scraping-custom\\.venv\\lib\\site-packages (from nltk>=3.9->textblob>=0.18.0.post0->spacytextblob) (2025.7.34)\n",
      "Requirement already satisfied: MarkupSafe>=2.0 in c:\\users\\adria\\documents\\web-scraping-custom\\.venv\\lib\\site-packages (from jinja2->spacy) (3.0.2)\n",
      "Note: you may need to restart the kernel to use updated packages.\n"
     ]
    }
   ],
   "source": [
    "# Install required packages\n",
    "%pip install requests spacy spacytextblob matplotlib beautifulsoup4\n",
    "\n",
    "# Ran 'python -m spacy download en_core_web_sm' in terminal\n"
   ]
  },
  {
   "cell_type": "code",
   "execution_count": 26,
   "id": "7753de54",
   "metadata": {},
   "outputs": [
    {
     "data": {
      "text/plain": [
       "<spacytextblob.spacytextblob.SpacyTextBlob at 0x2643b44d1c0>"
      ]
     },
     "execution_count": 26,
     "metadata": {},
     "output_type": "execute_result"
    }
   ],
   "source": [
    "# Import libraries\n",
    "import requests\n",
    "from bs4 import BeautifulSoup\n",
    "from collections import Counter\n",
    "import matplotlib.pyplot as plt\n",
    "import spacy\n",
    "from spacytextblob.spacytextblob import SpacyTextBlob\n",
    "import re\n",
    "\n",
    "# Load the English language model\n",
    "nlp = spacy.load(\"en_core_web_sm\")\n",
    "\n",
    "# Add sentiment analysis \n",
    "nlp.add_pipe(\"spacytextblob\")"
   ]
  },
  {
   "cell_type": "markdown",
   "id": "07458548",
   "metadata": {},
   "source": [
    "1. Find on the internet an article or blog post about a topic that interests you and you are able to get the text for using the technologies we have applied in the course. Get the html for the article and store it in a file (which you must submit with your project)"
   ]
  },
  {
   "cell_type": "code",
   "execution_count": 27,
   "id": "d490fbc3",
   "metadata": {},
   "outputs": [
    {
     "name": "stdout",
     "output_type": "stream",
     "text": [
      "Article HTML saved to cat_mayor_article.html\n"
     ]
    }
   ],
   "source": [
    "# Question 1: Get the article HTML and save it to a file\n",
    "\n",
    "url = \"https://web.archive.org/web/20250808011345/https://www.the-independent.com/news/world/americas/somerville-cat-mayor-bike-path-election-b2799685.html\"\n",
    "response = requests.get(url)\n",
    "soup = BeautifulSoup(response.text, 'html.parser')\n",
    "\n",
    "# Find the article container (this is our version of their specific div)\n",
    "article = soup.find('article')\n",
    "article_html = str(article)\n",
    "\n",
    "# Save it\n",
    "with open('cat_mayor_article.html', 'wb') as f:\n",
    "    f.write(article_html.encode('utf-8'))\n",
    "\n",
    "print(\"Article HTML saved to cat_mayor_article.html\")"
   ]
  },
  {
   "cell_type": "markdown",
   "id": "c2f8e133",
   "metadata": {},
   "source": [
    "2. Read in your article's html source from the file you created in question 1 and do sentiment analysis on the article/post's text (use .get_text()). Print the polarity score with an appropriate label. Additionally print the number of sentences in the original article (with an appropriate label)"
   ]
  },
  {
   "cell_type": "code",
   "execution_count": 35,
   "id": "3e023149",
   "metadata": {},
   "outputs": [
    {
     "name": "stdout",
     "output_type": "stream",
     "text": [
      "Article text length: 3090 characters\n",
      "Clean article preview:\n",
      "This mayoral election has gone to the dogs ... and the incumbent cat is not happy about it. A race to elect the newest bike path cat mayor in Somerville, Massachusetts (yes, that’s a thing) has been hijacked by an array of other animals – including a parrot, guinea pig, snake and tortoise. Several f\n",
      "\n",
      "Article Polarity Score: 0.13732905982905982\n",
      "Number of sentences in the original article: 26\n"
     ]
    }
   ],
   "source": [
    "# Question 2: Read article HTML and do sentiment analysis \n",
    "import spacy\n",
    "from textblob import TextBlob\n",
    "\n",
    "nlp = spacy.load(\"en_core_web_sm\")\n",
    "nlp.add_pipe(\"spacytextblob\")\n",
    "\n",
    "# Read the HTML file \n",
    "with open('cat_mayor_article.html', 'r', encoding='utf-8') as file:\n",
    "    html_content = file.read()\n",
    "\n",
    "# Parse HTML and extract text\n",
    "soup = BeautifulSoup(html_content, 'html.parser')\n",
    "\n",
    "# Look for paragraph tags \n",
    "paragraphs = soup.find_all('p')\n",
    "article_paragraphs = []\n",
    "\n",
    "# Filter out navigation/header paragraphs and keep story paragraphs\n",
    "for p in paragraphs:\n",
    "    text = p.get_text().strip()\n",
    "    # Keep paragraphs that are long enough and seem to be part of the story\n",
    "    if (len(text) > 30 and \n",
    "        not any(nav_word in text.lower() for nav_word in ['menu', 'newsletter', 'subscribe', 'comments', 'edition']) and\n",
    "        any(story_word in text.lower() for story_word in ['cat', 'mayor', 'berry', 'election', 'bike', 'somerville'])):\n",
    "        article_paragraphs.append(text)\n",
    "\n",
    "# Join the story paragraphs\n",
    "article_text = ' '.join(article_paragraphs)\n",
    "\n",
    "print(f\"Article text length: {len(article_text)} characters\")\n",
    "print(\"Clean article preview:\")\n",
    "print(article_text[:300])\n",
    "print()\n",
    "\n",
    "# Process with spaCy for sentiment analysis\n",
    "blob = TextBlob(article_text)\n",
    "polarity_score = blob.sentiment.polarity\n",
    "\n",
    "print(f\"Article Polarity Score: {polarity_score}\")\n",
    "\n",
    "# Sentence counting\n",
    "doc = nlp(article_text)\n",
    "sentences = list(doc.sents)\n",
    "num_sentences = len(sentences)\n",
    "\n",
    "print(f\"Number of sentences in the original article: {num_sentences}\")"
   ]
  },
  {
   "cell_type": "markdown",
   "id": "2b29d45c",
   "metadata": {},
   "source": [
    "3. Load the article text into a trained spaCy pipeline, and determine the 5 most frequent tokens (converted to lower case). Print the common tokens with an appropriate label. Additionally, print the tokens their frequencies (with appropriate labels)"
   ]
  },
  {
   "cell_type": "code",
   "execution_count": 36,
   "id": "8f9bbe1e",
   "metadata": {},
   "outputs": [
    {
     "name": "stdout",
     "output_type": "stream",
     "text": [
      "Total tokens found: 521\n",
      "5 Most Frequent Tokens:\n",
      "Token: 'the' - Frequency: 33\n",
      "Token: 'to' - Frequency: 17\n",
      "Token: 'cat' - Frequency: 16\n",
      "Token: 'and' - Frequency: 13\n",
      "Token: 'for' - Frequency: 12\n"
     ]
    }
   ],
   "source": [
    "# Question 3: Find the 5 most frequent tokens\n",
    "\n",
    "# Process the article text with spaCy\n",
    "doc = nlp(article_text)\n",
    "\n",
    "# Get all tokens (words) and convert to lowercase\n",
    "tokens = []\n",
    "for token in doc:\n",
    "    # Skip punctuation and whitespace\n",
    "    if not token.is_punct and not token.is_space and len(token.text) > 1:\n",
    "        tokens.append(token.text.lower())\n",
    "\n",
    "print(f\"Total tokens found: {len(tokens)}\")\n",
    "\n",
    "# Count token frequencies\n",
    "from collections import Counter\n",
    "token_counts = Counter(tokens)\n",
    "\n",
    "# Get the 5 most common tokens\n",
    "most_common_tokens = token_counts.most_common(5)\n",
    "\n",
    "print(\"5 Most Frequent Tokens:\")\n",
    "for token, frequency in most_common_tokens:\n",
    "    print(f\"Token: '{token}' - Frequency: {frequency}\")"
   ]
  },
  {
   "cell_type": "markdown",
   "id": "173e7d8e",
   "metadata": {},
   "source": [
    "4. Load the article text into a trained spaCy pipeline, and determine the 5 most frequent lemmas (converted to lower case). Print the common lemmas with an appropriate label. Additionally, print the lemmas with their frequencies (with appropriate labels)."
   ]
  },
  {
   "cell_type": "code",
   "execution_count": 37,
   "id": "939326ac",
   "metadata": {},
   "outputs": [
    {
     "name": "stdout",
     "output_type": "stream",
     "text": [
      "Total lemmas found: 521\n",
      "5 Most Frequent Lemmas:\n",
      "Lemma: 'the' - Frequency: 33\n",
      "Lemma: 'be' - Frequency: 26\n",
      "Lemma: 'cat' - Frequency: 18\n",
      "Lemma: 'to' - Frequency: 17\n",
      "Lemma: 'and' - Frequency: 13\n"
     ]
    }
   ],
   "source": [
    "# Question 4: Find the 5 most frequent lemmas\n",
    "\n",
    "# Process the article text with spaCy (we already have this as 'doc')\n",
    "doc = nlp(article_text)\n",
    "\n",
    "# Get all lemmas and convert to lowercase\n",
    "lemmas = []\n",
    "for token in doc:\n",
    "    # Skip punctuation, whitespace, and very short words\n",
    "    if not token.is_punct and not token.is_space and len(token.text) > 1:\n",
    "        lemmas.append(token.lemma_.lower())\n",
    "\n",
    "print(f\"Total lemmas found: {len(lemmas)}\")\n",
    "\n",
    "# Count lemma frequencies\n",
    "lemma_counts = Counter(lemmas)\n",
    "\n",
    "# Get the 5 most common lemmas\n",
    "most_common_lemmas = lemma_counts.most_common(5)\n",
    "\n",
    "print(\"5 Most Frequent Lemmas:\")\n",
    "for lemma, frequency in most_common_lemmas:\n",
    "    print(f\"Lemma: '{lemma}' - Frequency: {frequency}\")"
   ]
  },
  {
   "cell_type": "markdown",
   "id": "371c48fe",
   "metadata": {},
   "source": [
    "5. Make a list containing the scores (using tokens) of every sentence in the article, and plot a histogram with appropriate titles and axis labels of the scores. From your histogram, what seems to be the most common range of scores (put the answer in a comment after your code)?"
   ]
  },
  {
   "cell_type": "code",
   "execution_count": 39,
   "id": "c21b889c",
   "metadata": {},
   "outputs": [
    {
     "data": {
      "image/png": "[encoded data removed]",
      "text/plain": [
       "<Figure size 1000x600 with 1 Axes>"
      ]
     },
     "metadata": {},
     "output_type": "display_data"
    }
   ],
   "source": [
    "# Question 5: Make histogram of sentence scores using tokens\n",
    "\n",
    "import matplotlib.pyplot as plt\n",
    "\n",
    "# Process the article into sentences\n",
    "doc = nlp(article_text)\n",
    "sentences = list(doc.sents)\n",
    "\n",
    "# Calculate score for each sentence using tokens\n",
    "sentence_scores_tokens = []\n",
    "\n",
    "for sent in sentences:\n",
    "    sent_tokens = []\n",
    "    for token in sent:\n",
    "        if not token.is_punct and not token.is_space and len(token.text) > 1:\n",
    "            sent_tokens.append(token.text.lower())\n",
    "    \n",
    "    score = 0\n",
    "    for token in sent_tokens:\n",
    "        score += token_counts[token]  \n",
    "    \n",
    "    sentence_scores_tokens.append(score)\n",
    "\n",
    "# Create histogram\n",
    "plt.figure(figsize=(10, 6))\n",
    "plt.hist(sentence_scores_tokens, bins=15, edgecolor='black', alpha=0.7)\n",
    "plt.title('Distribution of Sentence Scores (Using Tokens)')\n",
    "plt.xlabel('Sentence Score')\n",
    "plt.ylabel('Number of Sentences')\n",
    "plt.grid(True, alpha=0.3)\n",
    "plt.show()\n",
    "\n",
    "# What's the most common range?: Most sentence scores seem to be between 30 and 250"
   ]
  },
  {
   "cell_type": "markdown",
   "id": "45178ed2",
   "metadata": {},
   "source": [
    "6. Make a list containing the scores (using lemmas) of every sentence in the article, and plot a histogram with appropriate titles and axis labels of the scores. From your histogram, what seems to be the most common range of scores (put the answer in a comment after your code)?"
   ]
  },
  {
   "cell_type": "code",
   "execution_count": 41,
   "id": "61b2177e",
   "metadata": {},
   "outputs": [
    {
     "data": {
      "image/png": "[encoded data removed]",
      "text/plain": [
       "<Figure size 1000x600 with 1 Axes>"
      ]
     },
     "metadata": {},
     "output_type": "display_data"
    }
   ],
   "source": [
    "# Question 6: Make histogram of sentence scores using lemmas\n",
    "\n",
    "# Calculate score for each sentence using lemmas\n",
    "sentence_scores_lemmas = []\n",
    "\n",
    "for sent in sentences:\n",
    "    sent_lemmas = []\n",
    "    for token in sent:\n",
    "        if not token.is_punct and not token.is_space and len(token.text) > 1:\n",
    "            sent_lemmas.append(token.lemma_.lower())\n",
    "    \n",
    "    score = 0\n",
    "    for lemma in sent_lemmas:\n",
    "        score += lemma_counts[lemma]  \n",
    "    \n",
    "    sentence_scores_lemmas.append(score)\n",
    "\n",
    "\n",
    "# Create histogram\n",
    "plt.figure(figsize=(10, 6))\n",
    "plt.hist(sentence_scores_lemmas, bins=15, edgecolor='black', alpha=0.7)\n",
    "plt.title('Distribution of Sentence Scores (Using Lemmas)')\n",
    "plt.xlabel('Sentence Score')\n",
    "plt.ylabel('Number of Sentences')\n",
    "plt.grid(True, alpha=0.3)\n",
    "plt.show()\n",
    "\n",
    "# What's the most common range?: 55 to 290"
   ]
  },
  {
   "cell_type": "markdown",
   "id": "f9576539",
   "metadata": {},
   "source": [
    "7. Using the histograms from questions 5 and 6, decide a \"cutoff\" score for tokens and lemmas such that fewer than half the sentences would have a score greater than the cutoff score. Record the scores in this Markdown cell\n",
    "Cutoff Score (tokens):\n",
    "Cutoff Score (lemmas):\n",
    "Feel free to change these scores as you generate your summaries. Ideally, we're shooting for at least 6 sentences for our summary, but don't want more than 10 (these numbers are rough estimates; they depend on the length of your article).\n",
    "\n",
    "Create a summary of the article by going through every sentence in the article and adding it to an (initially) empty list if its score (based on tokens) is greater than the cutoff score you identified in question "
   ]
  },
  {
   "cell_type": "code",
   "execution_count": 43,
   "id": "009d88b8",
   "metadata": {},
   "outputs": [
    {
     "name": "stdout",
     "output_type": "stream",
     "text": [
      "Total sentences: 26\n",
      "We want fewer than half, so less than 13 sentences in our summary\n",
      "\n",
      "Top 10 token scores:\n",
      "1. 268\n",
      "2. 232\n",
      "3. 204\n",
      "4. 188\n",
      "5. 177\n",
      "6. 168\n",
      "7. 166\n",
      "8. 166\n",
      "9. 143\n",
      "10. 143\n",
      "\n",
      "Top 10 lemma scores:\n",
      "1. 290\n",
      "2. 268\n",
      "3. 251\n",
      "4. 237\n",
      "5. 234\n",
      "6. 224\n",
      "7. 194\n",
      "8. 185\n",
      "9. 185\n",
      "10. 169\n"
     ]
    }
   ],
   "source": [
    "# Question 7: Determine cutoff scores for summary creation\n",
    "\n",
    "print(f\"Total sentences: {len(sentences)}\")\n",
    "print(f\"We want fewer than half, so less than {len(sentences)//2} sentences in our summary\")\n",
    "print()\n",
    "\n",
    "# Sort the scores to see the distribution\n",
    "sorted_token_scores = sorted(sentence_scores_tokens, reverse=True)\n",
    "sorted_lemma_scores = sorted(sentence_scores_lemmas, reverse=True)\n",
    "\n",
    "print(\"Top 10 token scores:\")\n",
    "for i, score in enumerate(sorted_token_scores[:10]):\n",
    "    print(f\"{i+1}. {score}\")\n",
    "\n",
    "print(\"\\nTop 10 lemma scores:\")  \n",
    "for i, score in enumerate(sorted_lemma_scores[:10]):\n",
    "    print(f\"{i+1}. {score}\")\n"
   ]
  },
  {
   "cell_type": "markdown",
   "id": "5b738966",
   "metadata": {},
   "source": [
    "* Cutoff Score (tokens): 160\n",
    "* Cutoff Score (lemmas): 200"
   ]
  },
  {
   "cell_type": "markdown",
   "id": "3ab15e24",
   "metadata": {},
   "source": [
    "8. Create a summary of the article by going through every sentence in the article and adding it to an (initially) empty list if its score (based on tokens) is greater than the cutoff score you identified in question 7. If your loop variable is named sent, you may find it easier to add sent.text.strip() to your list of sentences. Print the summary (I would cleanly generate the summary text by joining the strings in your list together with a space (' '.join(sentence_list))."
   ]
  },
  {
   "cell_type": "code",
   "execution_count": 44,
   "id": "0cd01c0d",
   "metadata": {},
   "outputs": [
    {
     "name": "stdout",
     "output_type": "stream",
     "text": [
      "Summary contains 8 sentences\n",
      "Original article had 26 sentences\n",
      "\n",
      "TOKEN-BASED SUMMARY:\n",
      "==================================================\n",
      "A race to elect the newest bike path cat mayor in Somerville, Massachusetts (yes, that’s a thing) has been hijacked by an array of other animals – including a parrot, guinea pig, snake and tortoise. Several ferocious felines, including incumbent Mayor Berry, had been campaigning for the fictitious role of “Bike Path Mayor” when posters for other pets to fill the role began popping up in the Boston suburb. The highly contested race began after Berry’s owner, Mallory Bisset, placed a humorous poster declaring her indoor-outdoor cat the “Bike Path Mayor” as a way to let passersby know she isn’t a stray, just a cat that loves to spend time on the trail, NBC 10 reported. \"The original race, we have photo evidence all over the Somerville Discord, was Orange Cat vs Berry, who is the incumbent,\" one resident said. While Berry and Orange Cat appear to be the frontrunners among locals, dozens of other cats have since entered the race, each with their own slogan and campaign platform. The cat quickly got out of the bag, and a slew of other animals have since entered the race. While only a few dogs are on the ballot, McNamara said it would be “ridiculous” for a dog to be elected mayor of the bike path. “I am a little partial to Berry, because she has held a town hall in our garden a few months ago, so I think I’m just waiting to see if other candidates are going to speak up more,” said resident Andrea Wen, who frequently walks the trail.\n"
     ]
    }
   ],
   "source": [
    "# Question 8: Create summary using token scores\n",
    "\n",
    "# Set cutoff score for tokens\n",
    "token_cutoff = 160\n",
    "\n",
    "# Create list to store summary sentences\n",
    "summary_sentences = []\n",
    "\n",
    "# Go through each sentence and add it if score is above cutoff\n",
    "for i, sent in enumerate(sentences):\n",
    "    if sentence_scores_tokens[i] > token_cutoff:\n",
    "        summary_sentences.append(sent.text.strip())\n",
    "\n",
    "print(f\"Summary contains {len(summary_sentences)} sentences\")\n",
    "print(f\"Original article had {len(sentences)} sentences\")\n",
    "print()\n",
    "\n",
    "# Create the summary by joining sentences with spaces\n",
    "token_summary = ' '.join(summary_sentences)\n",
    "\n",
    "print(\"TOKEN-BASED SUMMARY:\")\n",
    "print(\"=\" * 50)\n",
    "print(token_summary)"
   ]
  },
  {
   "cell_type": "markdown",
   "id": "34046150",
   "metadata": {},
   "source": [
    "9. Print the polarity score of your summary you generated with the token scores (with an appropriate label). Additionally, print the number of sentences in the summarized article."
   ]
  },
  {
   "cell_type": "code",
   "execution_count": 45,
   "id": "dfce9231",
   "metadata": {},
   "outputs": [
    {
     "name": "stdout",
     "output_type": "stream",
     "text": [
      "Token Summary Polarity Score: 0.08612500000000001\n",
      "Number of sentences in the token-based summary: 8\n",
      "\n",
      "Comparison:\n",
      "Original article polarity: 0.137\n",
      "Token summary polarity: 0.08612500000000001\n",
      "Original article sentences: 26\n",
      "Token summary sentences: 8\n"
     ]
    }
   ],
   "source": [
    "# Question 9: Analyze the token-based summary\n",
    "\n",
    "# Use TextBlob to get polarity of the summary\n",
    "summary_blob = TextBlob(token_summary)\n",
    "summary_polarity = summary_blob.sentiment.polarity\n",
    "\n",
    "print(f\"Token Summary Polarity Score: {summary_polarity}\")\n",
    "\n",
    "# Count sentences in the summary\n",
    "summary_doc = nlp(token_summary)\n",
    "summary_sentences_count = len(list(summary_doc.sents))\n",
    "\n",
    "print(f\"Number of sentences in the token-based summary: {summary_sentences_count}\")\n",
    "\n",
    "print(\"\\nComparison:\")\n",
    "print(f\"Original article polarity: 0.137\")\n",
    "print(f\"Token summary polarity: {summary_polarity}\")\n",
    "print(f\"Original article sentences: 26\")\n",
    "print(f\"Token summary sentences: {summary_sentences_count}\")"
   ]
  },
  {
   "cell_type": "markdown",
   "id": "32d35f33",
   "metadata": {},
   "source": [
    "10. Create a summary of the article by going through every sentence in the article and adding it to an (initially) empty list if its score (based on lemmas) is greater than the cutoff score you identified in question 8. If your loop variable is named sent, you may find it easier to add sent.text.strip() to your list of sentences. Print the summary (I would cleanly generate the summary text by joining the strings in your list together with a space (' '.join(sentence_list))."
   ]
  },
  {
   "cell_type": "code",
   "execution_count": null,
   "id": "b8e808a0",
   "metadata": {},
   "outputs": [
    {
     "name": "stdout",
     "output_type": "stream",
     "text": [
      "Lemma summary contains 6 sentences\n",
      "Original article had 26 sentences\n",
      "\n",
      "LEMMA-BASED SUMMARY:\n",
      "==================================================\n",
      "Several ferocious felines, including incumbent Mayor Berry, had been campaigning for the fictitious role of “Bike Path Mayor” when posters for other pets to fill the role began popping up in the Boston suburb. The highly contested race began after Berry’s owner, Mallory Bisset, placed a humorous poster declaring her indoor-outdoor cat the “Bike Path Mayor” as a way to let passersby know she isn’t a stray, just a cat that loves to spend time on the trail, NBC 10 reported. \"The original race, we have photo evidence all over the Somerville Discord, was Orange Cat vs Berry, who is the incumbent,\" one resident said. While Berry and Orange Cat appear to be the frontrunners among locals, dozens of other cats have since entered the race, each with their own slogan and campaign platform. While only a few dogs are on the ballot, McNamara said it would be “ridiculous” for a dog to be elected mayor of the bike path. “I am a little partial to Berry, because she has held a town hall in our garden a few months ago, so I think I’m just waiting to see if other candidates are going to speak up more,” said resident Andrea Wen, who frequently walks the trail.\n"
     ]
    }
   ],
   "source": [
    "# Question 10: Create summary using lemma scores\n",
    "\n",
    "# Set cutoff score for lemmas\n",
    "lemma_cutoff = 200\n",
    "\n",
    "# Create list to store summary sentences\n",
    "lemma_summary_sentences = []\n",
    "\n",
    "# Go through each sentence and add it if lemma score is above cutoff\n",
    "for i, sent in enumerate(sentences):\n",
    "    if sentence_scores_lemmas[i] > lemma_cutoff:\n",
    "        lemma_summary_sentences.append(sent.text.strip())\n",
    "\n",
    "print(f\"Lemma summary contains {len(lemma_summary_sentences)} sentences\")\n",
    "print(f\"Original article had {len(sentences)} sentences\")\n",
    "print()\n",
    "\n",
    "# Create the summary by joining sentences with spaces\n",
    "lemma_summary = ' '.join(lemma_summary_sentences)\n",
    "\n",
    "print(\"LEMMA-BASED SUMMARY:\")\n",
    "print(\"=\" * 50)\n",
    "print(lemma_summary)"
   ]
  },
  {
   "cell_type": "markdown",
   "id": "71f07370",
   "metadata": {},
   "source": [
    "11. Print the polarity score of your summary you generated with the lemma scores (with an appropriate label). Additionally, print the number of sentences in the summarized article."
   ]
  },
  {
   "cell_type": "code",
   "execution_count": 47,
   "id": "45e8c974",
   "metadata": {},
   "outputs": [
    {
     "name": "stdout",
     "output_type": "stream",
     "text": [
      "Lemma Summary Polarity Score: 0.05244791666666667\n",
      "Number of sentences in the lemma-based summary: 6\n",
      "\n",
      "Comparison of all three:\n",
      "Original article polarity: 0.137\n",
      "Token summary polarity: 0.086\n",
      "Lemma summary polarity: 0.05244791666666667\n",
      "\n",
      "Original article sentences: 26\n",
      "Token summary sentences: 8\n",
      "Lemma summary sentences: 6\n"
     ]
    }
   ],
   "source": [
    "# Question 11: Analyze the lemma-based summary\n",
    "\n",
    "# Use TextBlob to get polarity of the lemma summary\n",
    "lemma_summary_blob = TextBlob(lemma_summary)\n",
    "lemma_summary_polarity = lemma_summary_blob.sentiment.polarity\n",
    "\n",
    "print(f\"Lemma Summary Polarity Score: {lemma_summary_polarity}\")\n",
    "\n",
    "# Count sentences in the lemma summary\n",
    "lemma_summary_doc = nlp(lemma_summary)\n",
    "lemma_summary_sentences_count = len(list(lemma_summary_doc.sents))\n",
    "\n",
    "print(f\"Number of sentences in the lemma-based summary: {lemma_summary_sentences_count}\")\n",
    "\n",
    "print(\"\\nComparison of all three:\")\n",
    "print(f\"Original article polarity: 0.137\")\n",
    "print(f\"Token summary polarity: 0.086\")\n",
    "print(f\"Lemma summary polarity: {lemma_summary_polarity}\")\n",
    "print()\n",
    "print(f\"Original article sentences: 26\")\n",
    "print(f\"Token summary sentences: 8\")\n",
    "print(f\"Lemma summary sentences: {lemma_summary_sentences_count}\")"
   ]
  },
  {
   "cell_type": "markdown",
   "id": "328a0ca4",
   "metadata": {},
   "source": [
    "12. Compare your polarity scores of your summaries to the polarity scores of the initial article. Is there a difference? Why do you think that may or may not be?. Answer in this Markdown cell.\n",
    "\n",
    "Yes, there is a difference in polarity scores:\n",
    "- Original article: 0.137 (most positive)\n",
    "- Token summary: 0.086 (moderately positive)\n",
    "- Lemma summary: 0.052 (least positive)\n",
    "\n",
    "All scores are still positive, but they decrease as the summaries get shorter. I think this happens because the summaries focus on the competitive/election aspects of the story (words like \"contested,\" \"race,\" \"hijacked\") rather than the more playful and humorous elements that made the full article more positive. "
   ]
  },
  {
   "cell_type": "markdown",
   "id": "4811bf1b",
   "metadata": {},
   "source": [
    "13. Based on your reading of the original article, which summary do you think is better (if there's a difference). Why do you think this might be?\n",
    "\n",
    "I think the token summary (8 sentences) is better than the lemma summary (6 sentences). The token summary includes the important opening context about how the race was \"hijacked by an array of other animals,\" which helps readers understand the full scope of the story. The lemma summary jumps right into the details without explaining the broader context of how other animals joined what started as a cat-only election. For a story this fun, the extra context makes it more engaging and easier to understand."
   ]
  }
 ],
 "metadata": {
  "kernelspec": {
   "display_name": ".venv",
   "language": "python",
   "name": "python3"
  },
  "language_info": {
   "codemirror_mode": {
    "name": "ipython",
    "version": 3
   },
   "file_extension": ".py",
   "mimetype": "text/x-python",
   "name": "python",
   "nbconvert_exporter": "python",
   "pygments_lexer": "ipython3",
   "version": "3.12.9"
  }
 },
 "nbformat": 4,
 "nbformat_minor": 5
}
